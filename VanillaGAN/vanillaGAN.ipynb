{
 "cells": [
  {
   "cell_type": "code",
   "execution_count": 1,
   "metadata": {},
   "outputs": [],
   "source": [
    "import torch\n",
    "import torch.nn as nn\n",
    "import torch.optim as optim\n",
    "from torchvision import datasets, transforms\n",
    "from torch.utils.data import DataLoader\n",
    "import matplotlib.pyplot as plt"
   ]
  },
  {
   "cell_type": "code",
   "execution_count": 2,
   "metadata": {},
   "outputs": [],
   "source": [
    "class Discriminator(nn.Module):\n",
    "    def __init__(self):\n",
    "        super(Discriminator, self).__init__()\n",
    "        self.model = nn.Sequential(\n",
    "            nn.Linear(784, 128),\n",
    "            nn.LeakyReLU(0.2),\n",
    "            nn.Linear(128, 1),\n",
    "            nn.Sigmoid(),\n",
    "        )\n",
    "    \n",
    "    def forward(self, x):\n",
    "        x = x.view(x.size(0), -1)\n",
    "        output = self.model(x)\n",
    "        return output"
   ]
  },
  {
   "cell_type": "code",
   "execution_count": 3,
   "metadata": {},
   "outputs": [],
   "source": [
    "class Generator(nn.Module):\n",
    "    def __init__(self):\n",
    "        super(Generator, self).__init__()\n",
    "        self.model = nn.Sequential(\n",
    "            nn.Linear(100, 128),\n",
    "            nn.LeakyReLU(0.2),\n",
    "            nn.Linear(128, 784),\n",
    "            nn.Tanh(),\n",
    "        )\n",
    "    \n",
    "    def forward(self, z):\n",
    "        output = self.model(z)\n",
    "        output = output.view(output.size(0), 1, 28, 28)\n",
    "        return output"
   ]
  },
  {
   "cell_type": "code",
   "execution_count": 4,
   "metadata": {},
   "outputs": [],
   "source": [
    "discriminator = Discriminator()\n",
    "generator = Generator()\n",
    "\n",
    "d_optimizer = optim.Adam(discriminator.parameters(), lr=0.0002)\n",
    "g_optimizer = optim.Adam(generator.parameters(), lr=0.0002)\n",
    "\n",
    "criterion = nn.BCELoss()"
   ]
  },
  {
   "cell_type": "code",
   "execution_count": 5,
   "metadata": {},
   "outputs": [
    {
     "name": "stdout",
     "output_type": "stream",
     "text": [
      "Downloading http://yann.lecun.com/exdb/mnist/train-images-idx3-ubyte.gz\n",
      "Downloading http://yann.lecun.com/exdb/mnist/train-images-idx3-ubyte.gz to ./MNIST/raw/train-images-idx3-ubyte.gz\n"
     ]
    },
    {
     "name": "stderr",
     "output_type": "stream",
     "text": [
      "100%|██████████| 9912422/9912422 [00:10<00:00, 922039.10it/s] \n"
     ]
    },
    {
     "name": "stdout",
     "output_type": "stream",
     "text": [
      "Extracting ./MNIST/raw/train-images-idx3-ubyte.gz to ./MNIST/raw\n",
      "\n",
      "Downloading http://yann.lecun.com/exdb/mnist/train-labels-idx1-ubyte.gz\n",
      "Downloading http://yann.lecun.com/exdb/mnist/train-labels-idx1-ubyte.gz to ./MNIST/raw/train-labels-idx1-ubyte.gz\n"
     ]
    },
    {
     "name": "stderr",
     "output_type": "stream",
     "text": [
      "100%|██████████| 28881/28881 [00:00<00:00, 29617529.05it/s]"
     ]
    },
    {
     "name": "stdout",
     "output_type": "stream",
     "text": [
      "Extracting ./MNIST/raw/train-labels-idx1-ubyte.gz to ./MNIST/raw\n",
      "\n",
      "Downloading http://yann.lecun.com/exdb/mnist/t10k-images-idx3-ubyte.gz\n"
     ]
    },
    {
     "name": "stderr",
     "output_type": "stream",
     "text": [
      "\n"
     ]
    },
    {
     "name": "stdout",
     "output_type": "stream",
     "text": [
      "Downloading http://yann.lecun.com/exdb/mnist/t10k-images-idx3-ubyte.gz to ./MNIST/raw/t10k-images-idx3-ubyte.gz\n"
     ]
    },
    {
     "name": "stderr",
     "output_type": "stream",
     "text": [
      "100%|██████████| 1648877/1648877 [00:01<00:00, 1157356.89it/s]\n"
     ]
    },
    {
     "name": "stdout",
     "output_type": "stream",
     "text": [
      "Extracting ./MNIST/raw/t10k-images-idx3-ubyte.gz to ./MNIST/raw\n",
      "\n",
      "Downloading http://yann.lecun.com/exdb/mnist/t10k-labels-idx1-ubyte.gz\n",
      "Downloading http://yann.lecun.com/exdb/mnist/t10k-labels-idx1-ubyte.gz to ./MNIST/raw/t10k-labels-idx1-ubyte.gz\n"
     ]
    },
    {
     "name": "stderr",
     "output_type": "stream",
     "text": [
      "100%|██████████| 4542/4542 [00:00<00:00, 10421514.64it/s]"
     ]
    },
    {
     "name": "stdout",
     "output_type": "stream",
     "text": [
      "Extracting ./MNIST/raw/t10k-labels-idx1-ubyte.gz to ./MNIST/raw\n",
      "\n"
     ]
    },
    {
     "name": "stderr",
     "output_type": "stream",
     "text": [
      "\n"
     ]
    }
   ],
   "source": [
    "transform = transforms.Compose([\n",
    "    transforms.ToTensor(),\n",
    "    transforms.Normalize((0.5,), (0.5,))\n",
    "])\n",
    "\n",
    "train_data = datasets.MNIST(root='.', train=True, download=True, transform=transform)\n",
    "train_loader = DataLoader(train_data, batch_size=32, shuffle=True)\n"
   ]
  },
  {
   "cell_type": "code",
   "execution_count": 6,
   "metadata": {},
   "outputs": [
    {
     "name": "stdout",
     "output_type": "stream",
     "text": [
      "Epoch [1/50], d_loss: 0.7986, g_loss: 1.1171, D(x): 0.75, D(G(z)): 0.38\n",
      "Epoch [2/50], d_loss: 0.9384, g_loss: 1.0324, D(x): 0.68, D(G(z)): 0.39\n",
      "Epoch [3/50], d_loss: 0.8837, g_loss: 1.2215, D(x): 0.66, D(G(z)): 0.35\n",
      "Epoch [4/50], d_loss: 1.3392, g_loss: 0.8874, D(x): 0.59, D(G(z)): 0.51\n",
      "Epoch [5/50], d_loss: 1.3501, g_loss: 0.6778, D(x): 0.59, D(G(z)): 0.52\n",
      "Epoch [6/50], d_loss: 0.9881, g_loss: 1.0616, D(x): 0.62, D(G(z)): 0.38\n",
      "Epoch [7/50], d_loss: 0.8614, g_loss: 1.2202, D(x): 0.72, D(G(z)): 0.36\n",
      "Epoch [8/50], d_loss: 0.7138, g_loss: 1.2931, D(x): 0.73, D(G(z)): 0.29\n",
      "Epoch [9/50], d_loss: 1.0692, g_loss: 1.0748, D(x): 0.62, D(G(z)): 0.40\n",
      "Epoch [10/50], d_loss: 1.2364, g_loss: 0.9146, D(x): 0.65, D(G(z)): 0.48\n",
      "Epoch [11/50], d_loss: 0.7895, g_loss: 1.4955, D(x): 0.75, D(G(z)): 0.35\n",
      "Epoch [12/50], d_loss: 1.0131, g_loss: 0.9992, D(x): 0.65, D(G(z)): 0.39\n",
      "Epoch [13/50], d_loss: 1.0861, g_loss: 0.9718, D(x): 0.62, D(G(z)): 0.39\n",
      "Epoch [14/50], d_loss: 0.9850, g_loss: 1.4339, D(x): 0.64, D(G(z)): 0.32\n",
      "Epoch [15/50], d_loss: 1.0397, g_loss: 1.2560, D(x): 0.61, D(G(z)): 0.29\n",
      "Epoch [16/50], d_loss: 0.8181, g_loss: 1.3987, D(x): 0.75, D(G(z)): 0.36\n",
      "Epoch [17/50], d_loss: 1.3201, g_loss: 1.0295, D(x): 0.63, D(G(z)): 0.44\n",
      "Epoch [18/50], d_loss: 1.2240, g_loss: 1.2362, D(x): 0.60, D(G(z)): 0.43\n",
      "Epoch [19/50], d_loss: 0.8780, g_loss: 1.7967, D(x): 0.67, D(G(z)): 0.27\n",
      "Epoch [20/50], d_loss: 0.8341, g_loss: 1.3796, D(x): 0.74, D(G(z)): 0.33\n",
      "Epoch [21/50], d_loss: 0.5675, g_loss: 1.6792, D(x): 0.80, D(G(z)): 0.26\n",
      "Epoch [22/50], d_loss: 0.6078, g_loss: 2.1014, D(x): 0.77, D(G(z)): 0.21\n",
      "Epoch [23/50], d_loss: 0.8908, g_loss: 1.5072, D(x): 0.74, D(G(z)): 0.31\n",
      "Epoch [24/50], d_loss: 1.0403, g_loss: 1.3724, D(x): 0.71, D(G(z)): 0.42\n",
      "Epoch [25/50], d_loss: 0.6629, g_loss: 2.0659, D(x): 0.77, D(G(z)): 0.23\n",
      "Epoch [26/50], d_loss: 0.6329, g_loss: 2.2514, D(x): 0.77, D(G(z)): 0.20\n",
      "Epoch [27/50], d_loss: 1.0896, g_loss: 1.6602, D(x): 0.67, D(G(z)): 0.31\n",
      "Epoch [28/50], d_loss: 0.9689, g_loss: 1.0918, D(x): 0.74, D(G(z)): 0.43\n",
      "Epoch [29/50], d_loss: 0.6398, g_loss: 1.8156, D(x): 0.79, D(G(z)): 0.26\n",
      "Epoch [30/50], d_loss: 0.7316, g_loss: 1.6203, D(x): 0.79, D(G(z)): 0.29\n",
      "Epoch [31/50], d_loss: 0.5336, g_loss: 2.2466, D(x): 0.84, D(G(z)): 0.24\n",
      "Epoch [32/50], d_loss: 0.6039, g_loss: 1.7460, D(x): 0.89, D(G(z)): 0.32\n",
      "Epoch [33/50], d_loss: 0.5307, g_loss: 2.0422, D(x): 0.86, D(G(z)): 0.26\n",
      "Epoch [34/50], d_loss: 0.8919, g_loss: 1.2829, D(x): 0.71, D(G(z)): 0.30\n",
      "Epoch [35/50], d_loss: 0.7152, g_loss: 2.1948, D(x): 0.77, D(G(z)): 0.27\n",
      "Epoch [36/50], d_loss: 0.8471, g_loss: 1.9486, D(x): 0.75, D(G(z)): 0.35\n",
      "Epoch [37/50], d_loss: 1.0321, g_loss: 1.9002, D(x): 0.68, D(G(z)): 0.25\n",
      "Epoch [38/50], d_loss: 0.9926, g_loss: 1.3435, D(x): 0.68, D(G(z)): 0.36\n",
      "Epoch [39/50], d_loss: 1.0355, g_loss: 1.2187, D(x): 0.69, D(G(z)): 0.42\n",
      "Epoch [40/50], d_loss: 0.8652, g_loss: 1.2224, D(x): 0.81, D(G(z)): 0.39\n",
      "Epoch [41/50], d_loss: 0.9011, g_loss: 1.9685, D(x): 0.70, D(G(z)): 0.30\n",
      "Epoch [42/50], d_loss: 1.0712, g_loss: 1.2193, D(x): 0.73, D(G(z)): 0.36\n",
      "Epoch [43/50], d_loss: 0.8864, g_loss: 2.4206, D(x): 0.72, D(G(z)): 0.30\n",
      "Epoch [44/50], d_loss: 0.5865, g_loss: 1.9399, D(x): 0.79, D(G(z)): 0.22\n",
      "Epoch [45/50], d_loss: 1.7028, g_loss: 1.8102, D(x): 0.55, D(G(z)): 0.39\n",
      "Epoch [46/50], d_loss: 0.8542, g_loss: 1.6742, D(x): 0.71, D(G(z)): 0.26\n",
      "Epoch [47/50], d_loss: 1.0213, g_loss: 1.8438, D(x): 0.61, D(G(z)): 0.25\n",
      "Epoch [48/50], d_loss: 1.1607, g_loss: 1.5976, D(x): 0.65, D(G(z)): 0.39\n",
      "Epoch [49/50], d_loss: 0.9540, g_loss: 1.8979, D(x): 0.70, D(G(z)): 0.32\n",
      "Epoch [50/50], d_loss: 0.9467, g_loss: 1.7817, D(x): 0.75, D(G(z)): 0.34\n"
     ]
    }
   ],
   "source": [
    "epochs = 50\n",
    "for epoch in range(epochs):\n",
    "    for i, (images, _) in enumerate(train_loader):\n",
    "        # Train Discriminator\n",
    "        real_images = images\n",
    "        real_labels = torch.ones(images.size(0), 1)\n",
    "        fake_labels = torch.zeros(images.size(0), 1)\n",
    "\n",
    "        d_optimizer.zero_grad()\n",
    "        outputs = discriminator(real_images)\n",
    "        d_loss_real = criterion(outputs, real_labels)\n",
    "        real_score = outputs\n",
    "\n",
    "        z = torch.randn(images.size(0), 100)\n",
    "        fake_images = generator(z)\n",
    "        outputs = discriminator(fake_images.detach())\n",
    "        d_loss_fake = criterion(outputs, fake_labels)\n",
    "        fake_score = outputs\n",
    "\n",
    "        d_loss = d_loss_real + d_loss_fake\n",
    "        d_loss.backward()\n",
    "        d_optimizer.step()\n",
    "\n",
    "        # Train Generator\n",
    "        g_optimizer.zero_grad()\n",
    "        z = torch.randn(images.size(0), 100)\n",
    "        fake_images = generator(z)\n",
    "        outputs = discriminator(fake_images)\n",
    "        g_loss = criterion(outputs, real_labels)\n",
    "\n",
    "        g_loss.backward()\n",
    "        g_optimizer.step()\n",
    "        \n",
    "    print(f'Epoch [{epoch+1}/{epochs}], d_loss: {d_loss.item():.4f}, g_loss: {g_loss.item():.4f}, D(x): {real_score.mean().item():.2f}, D(G(z)): {fake_score.mean().item():.2f}')\n"
   ]
  },
  {
   "cell_type": "code",
   "execution_count": 11,
   "metadata": {},
   "outputs": [
    {
     "data": {
      "image/png": "[encoded data removed]",
      "text/plain": [
       "<Figure size 640x480 with 1 Axes>"
      ]
     },
     "metadata": {},
     "output_type": "display_data"
    }
   ],
   "source": [
    "z = torch.randn(1, 100)\n",
    "fake_image = generator(z).detach()\n",
    "plt.imshow(fake_image.view(28, 28), cmap='gray')\n",
    "plt.show()"
   ]
  },
  {
   "cell_type": "code",
   "execution_count": null,
   "metadata": {},
   "outputs": [],
   "source": []
  },
  {
   "cell_type": "code",
   "execution_count": null,
   "metadata": {},
   "outputs": [],
   "source": []
  }
 ],
 "metadata": {
  "kernelspec": {
   "display_name": "akos",
   "language": "python",
   "name": "python3"
  },
  "language_info": {
   "codemirror_mode": {
    "name": "ipython",
    "version": 3
   },
   "file_extension": ".py",
   "mimetype": "text/x-python",
   "name": "python",
   "nbconvert_exporter": "python",
   "pygments_lexer": "ipython3",
   "version": "3.11.5"
  }
 },
 "nbformat": 4,
 "nbformat_minor": 2
}
